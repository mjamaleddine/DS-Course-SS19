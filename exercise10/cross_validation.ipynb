{
 "cells": [
  {
   "cell_type": "code",
   "execution_count": 1,
   "metadata": {
    "scrolled": true
   },
   "outputs": [],
   "source": [
    "import os\n",
    "import pandas as pd\n",
    "import numpy as np\n",
    "import matplotlib.pyplot as plt\n",
    "import seaborn as sns\n",
    "%matplotlib inline\n",
    "\n",
    "path = 'return-data/'\n",
    "filelist = os.listdir(path) \n",
    "dfs = [pd.read_json(path+file, lines=True) for file in filelist]\n",
    "toydata = pd.concat(dfs, ignore_index=True)"
   ]
  },
  {
   "cell_type": "code",
   "execution_count": 2,
   "metadata": {},
   "outputs": [
    {
     "data": {
      "text/html": [
       "<div>\n",
       "<style scoped>\n",
       "    .dataframe tbody tr th:only-of-type {\n",
       "        vertical-align: middle;\n",
       "    }\n",
       "\n",
       "    .dataframe tbody tr th {\n",
       "        vertical-align: top;\n",
       "    }\n",
       "\n",
       "    .dataframe thead th {\n",
       "        text-align: right;\n",
       "    }\n",
       "</style>\n",
       "<table border=\"1\" class=\"dataframe\">\n",
       "  <thead>\n",
       "    <tr style=\"text-align: right;\">\n",
       "      <th></th>\n",
       "      <th>returnLabel</th>\n",
       "      <th>totalAmount</th>\n",
       "      <th>c_0</th>\n",
       "      <th>c_1</th>\n",
       "      <th>c_2</th>\n",
       "      <th>c_3</th>\n",
       "      <th>c_4</th>\n",
       "      <th>c_5</th>\n",
       "    </tr>\n",
       "  </thead>\n",
       "  <tbody>\n",
       "    <tr>\n",
       "      <th>0</th>\n",
       "      <td>0</td>\n",
       "      <td>264</td>\n",
       "      <td>1</td>\n",
       "      <td>3</td>\n",
       "      <td>3</td>\n",
       "      <td>0</td>\n",
       "      <td>0</td>\n",
       "      <td>1</td>\n",
       "    </tr>\n",
       "    <tr>\n",
       "      <th>1</th>\n",
       "      <td>1</td>\n",
       "      <td>60</td>\n",
       "      <td>0</td>\n",
       "      <td>1</td>\n",
       "      <td>1</td>\n",
       "      <td>1</td>\n",
       "      <td>3</td>\n",
       "      <td>0</td>\n",
       "    </tr>\n",
       "    <tr>\n",
       "      <th>2</th>\n",
       "      <td>0</td>\n",
       "      <td>60</td>\n",
       "      <td>0</td>\n",
       "      <td>0</td>\n",
       "      <td>0</td>\n",
       "      <td>0</td>\n",
       "      <td>0</td>\n",
       "      <td>1</td>\n",
       "    </tr>\n",
       "    <tr>\n",
       "      <th>3</th>\n",
       "      <td>0</td>\n",
       "      <td>333</td>\n",
       "      <td>1</td>\n",
       "      <td>0</td>\n",
       "      <td>0</td>\n",
       "      <td>1</td>\n",
       "      <td>1</td>\n",
       "      <td>0</td>\n",
       "    </tr>\n",
       "    <tr>\n",
       "      <th>4</th>\n",
       "      <td>0</td>\n",
       "      <td>378</td>\n",
       "      <td>2</td>\n",
       "      <td>1</td>\n",
       "      <td>2</td>\n",
       "      <td>1</td>\n",
       "      <td>0</td>\n",
       "      <td>0</td>\n",
       "    </tr>\n",
       "  </tbody>\n",
       "</table>\n",
       "</div>"
      ],
      "text/plain": [
       "   returnLabel  totalAmount  c_0  c_1  c_2  c_3  c_4  c_5\n",
       "0            0          264    1    3    3    0    0    1\n",
       "1            1           60    0    1    1    1    3    0\n",
       "2            0           60    0    0    0    0    0    1\n",
       "3            0          333    1    0    0    1    1    0\n",
       "4            0          378    2    1    2    1    0    0"
      ]
     },
     "execution_count": 2,
     "metadata": {},
     "output_type": "execute_result"
    }
   ],
   "source": [
    "toydata = toydata.merge(toydata['basket'].apply(lambda x: pd.Series({'c_0': x.count(0), 'c_1': x.count(1),'c_2': x.count(2),'c_3': x.count(3),'c_4': x.count(4),'c_5': x.count(5)})), left_index=True, right_index=True)\n",
    "toydata.drop(['basket','transactionId','zipCode'],axis=1,inplace=True)\n",
    "toydata.head()"
   ]
  },
  {
   "cell_type": "code",
   "execution_count": 3,
   "metadata": {},
   "outputs": [],
   "source": [
    "from sklearn.model_selection import train_test_split\n",
    "\n",
    "X_train, X_test, y_train, y_test = train_test_split(toydata.drop('returnLabel',axis=1),toydata['returnLabel'], test_size=0.30,random_state=101)"
   ]
  },
  {
   "cell_type": "code",
   "execution_count": 4,
   "metadata": {},
   "outputs": [],
   "source": [
    "import sklearn.metrics as metrics\n",
    "from sklearn.metrics import roc_auc_score\n",
    "\n",
    "def cross_validation(clf, X_train, y_train, k=3):\n",
    "    cv_score_values = []\n",
    "\n",
    "    X_train = np.array_split(X_train, k)\n",
    "    y_train = np.array_split(y_train, k)\n",
    "\n",
    "    for i in range(k):\n",
    "        X_validation_data = X_train[i]\n",
    "        y_validation_data = y_train[i]\n",
    "\n",
    "        arrayWithoutCurrentPosition = createArrayWithoutSubArray(X_train, i)\n",
    "\n",
    "        X_cur_train = createArrayWithoutSubArray(X_train, i)\n",
    "        y_cur_train = createArrayWithoutSubArray(y_train, i)\n",
    "        \n",
    "        clf.fit(X_cur_train,y_cur_train)\n",
    "        validation_pred_proba = clf.predict_proba(X_validation_data)[::,1]\n",
    "        validation_roc_auc = roc_auc_score(y_validation_data, validation_pred_proba)\n",
    "        \n",
    "        cv_score_values.append(validation_roc_auc)\n",
    "    \n",
    "    cv_score = np.average(cv_score_values)\n",
    "    \n",
    "    return cv_score\n",
    "\n",
    "def createArrayWithoutSubArray(arrayList, indexToRemove):\n",
    "    joinedList = arrayList[:indexToRemove] + arrayList[indexToRemove+1:]\n",
    "\n",
    "    arrayWithoutSubArray = pd.concat(joinedList, ignore_index=True)        \n",
    "    return arrayWithoutSubArray"
   ]
  },
  {
   "cell_type": "code",
   "execution_count": 9,
   "metadata": {},
   "outputs": [
    {
     "name": "stdout",
     "output_type": "stream",
     "text": [
      "0.927341082713903\n",
      "0.9306578300334164\n",
      "0.931694402582582\n",
      "0.8689804090014102\n",
      "0.8499266884796454\n"
     ]
    }
   ],
   "source": [
    "from sklearn.ensemble import RandomForestClassifier\n",
    "from sklearn.datasets import make_classification\n",
    "\n",
    "random_clf_default = RandomForestClassifier()\n",
    "random_clf1 = RandomForestClassifier(n_estimators=10, max_depth=10)\n",
    "random_clf2 = RandomForestClassifier(n_estimators=100, max_depth=10)\n",
    "random_clf3 = RandomForestClassifier(n_estimators=200, max_depth=10)\n",
    "random_clf4 = RandomForestClassifier(n_estimators=100, max_depth=20)\n",
    "random_clf5 = RandomForestClassifier(n_estimators=100, max_depth=30)\n",
    "\n",
    "print(cross_validation(random_clf1, X_train, y_train, 4))\n",
    "print(cross_validation(random_clf2, X_train, y_train, 4))\n",
    "print(cross_validation(random_clf3, X_train, y_train, 4))\n",
    "print(cross_validation(random_clf4, X_train, y_train, 4))\n",
    "print(cross_validation(random_clf5, X_train, y_train, 4))"
   ]
  },
  {
   "cell_type": "code",
   "execution_count": 10,
   "metadata": {},
   "outputs": [
    {
     "data": {
      "image/png": "[encoded data removed]",
      "text/plain": [
       "<Figure size 432x288 with 1 Axes>"
      ]
     },
     "metadata": {
      "needs_background": "light"
     },
     "output_type": "display_data"
    }
   ],
   "source": [
    "import sklearn.metrics as metrics\n",
    "from sklearn.metrics import roc_auc_score\n",
    "\n",
    "# default random forst roc\n",
    "random_clf_default.fit(X_train,y_train)\n",
    "y_pred_proba_rnd_default = random_clf_default.predict_proba(X_test)[::,1]\n",
    "fpr_rnd_default, tpr_rnd_default, threshold_rnd_default = metrics.roc_curve(y_test, y_pred_proba_rnd_default)\n",
    "roc_auc_rnd_default = roc_auc_score(y_test, y_pred_proba_rnd_default)\n",
    "\n",
    "# best CV random forest roc\n",
    "random_clf3.fit(X_train,y_train)\n",
    "y_pred_proba_rnd_best = random_clf3.predict_proba(X_test)[::,1]\n",
    "fpr_rnd_best, tpr_rnd_best, threshold_rnd_best = metrics.roc_curve(y_test, y_pred_proba_rnd_best)\n",
    "roc_auc_rnd_best = roc_auc_score(y_test, y_pred_proba_rnd_best)\n",
    "\n",
    "import matplotlib.pyplot as plt\n",
    "plt.title('Receiver Operating Characteristic')\n",
    "plt.plot(fpr_rnd_default, tpr_rnd_default, 'b', label = 'Random Default (area = %0.2f)' % roc_auc_rnd_default)\n",
    "plt.plot(fpr_rnd_best, tpr_rnd_best, 'g', label = 'Random Best (area = %0.2f)' % roc_auc_rnd_best)\n",
    "plt.legend(loc = 'lower right')\n",
    "plt.plot([0, 1], [0, 1],'r--')\n",
    "plt.xlim([0, 1])\n",
    "plt.ylim([0, 1])\n",
    "plt.ylabel('True Positive Rate')\n",
    "plt.xlabel('False Positive Rate')\n",
    "plt.show()"
   ]
  },
  {
   "cell_type": "code",
   "execution_count": null,
   "metadata": {},
   "outputs": [],
   "source": []
  }
 ],
 "metadata": {
  "kernelspec": {
   "display_name": "Python 2",
   "language": "python",
   "name": "python2"
  },
  "language_info": {
   "codemirror_mode": {
    "name": "ipython",
    "version": 2
   },
   "file_extension": ".py",
   "mimetype": "text/x-python",
   "name": "python",
   "nbconvert_exporter": "python",
   "pygments_lexer": "ipython2",
   "version": "2.7.15"
  }
 },
 "nbformat": 4,
 "nbformat_minor": 2
}
