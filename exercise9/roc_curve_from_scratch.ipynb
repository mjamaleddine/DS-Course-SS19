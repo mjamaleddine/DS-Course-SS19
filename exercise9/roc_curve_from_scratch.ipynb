{
 "cells": [
  {
   "cell_type": "code",
   "execution_count": 1,
   "metadata": {
    "scrolled": true
   },
   "outputs": [],
   "source": [
    "import os\n",
    "import pandas as pd\n",
    "import numpy as np\n",
    "import matplotlib.pyplot as plt\n",
    "import seaborn as sns\n",
    "%matplotlib inline\n",
    "\n",
    "np.set_printoptions(threshold=np.inf)\n",
    "\n",
    "path = 'return-data/'\n",
    "filelist = os.listdir(path) \n",
    "dfs = [pd.read_json(path+file, lines=True) for file in filelist]\n",
    "toydata = pd.concat(dfs, ignore_index=True)"
   ]
  },
  {
   "cell_type": "code",
   "execution_count": 2,
   "metadata": {},
   "outputs": [
    {
     "data": {
      "text/html": [
       "<div>\n",
       "<style scoped>\n",
       "    .dataframe tbody tr th:only-of-type {\n",
       "        vertical-align: middle;\n",
       "    }\n",
       "\n",
       "    .dataframe tbody tr th {\n",
       "        vertical-align: top;\n",
       "    }\n",
       "\n",
       "    .dataframe thead th {\n",
       "        text-align: right;\n",
       "    }\n",
       "</style>\n",
       "<table border=\"1\" class=\"dataframe\">\n",
       "  <thead>\n",
       "    <tr style=\"text-align: right;\">\n",
       "      <th></th>\n",
       "      <th>basket</th>\n",
       "      <th>returnLabel</th>\n",
       "      <th>totalAmount</th>\n",
       "      <th>transactionId</th>\n",
       "      <th>zipCode</th>\n",
       "    </tr>\n",
       "  </thead>\n",
       "  <tbody>\n",
       "    <tr>\n",
       "      <th>0</th>\n",
       "      <td>[1, 1, 0, 2, 5, 1, 2, 2]</td>\n",
       "      <td>0</td>\n",
       "      <td>264</td>\n",
       "      <td>5221131913</td>\n",
       "      <td>2321</td>\n",
       "    </tr>\n",
       "    <tr>\n",
       "      <th>1</th>\n",
       "      <td>[1, 4, 4, 3, 2, 4]</td>\n",
       "      <td>1</td>\n",
       "      <td>60</td>\n",
       "      <td>4768566069</td>\n",
       "      <td>7597</td>\n",
       "    </tr>\n",
       "    <tr>\n",
       "      <th>2</th>\n",
       "      <td>[5]</td>\n",
       "      <td>0</td>\n",
       "      <td>60</td>\n",
       "      <td>4791292369</td>\n",
       "      <td>1176</td>\n",
       "    </tr>\n",
       "    <tr>\n",
       "      <th>3</th>\n",
       "      <td>[0, 4, 3]</td>\n",
       "      <td>0</td>\n",
       "      <td>333</td>\n",
       "      <td>4672834572</td>\n",
       "      <td>3087</td>\n",
       "    </tr>\n",
       "    <tr>\n",
       "      <th>4</th>\n",
       "      <td>[2, 3, 1, 2, 0, 0]</td>\n",
       "      <td>0</td>\n",
       "      <td>378</td>\n",
       "      <td>8750635039</td>\n",
       "      <td>9400</td>\n",
       "    </tr>\n",
       "  </tbody>\n",
       "</table>\n",
       "</div>"
      ],
      "text/plain": [
       "                     basket  returnLabel  totalAmount  transactionId  zipCode\n",
       "0  [1, 1, 0, 2, 5, 1, 2, 2]            0          264     5221131913     2321\n",
       "1        [1, 4, 4, 3, 2, 4]            1           60     4768566069     7597\n",
       "2                       [5]            0           60     4791292369     1176\n",
       "3                 [0, 4, 3]            0          333     4672834572     3087\n",
       "4        [2, 3, 1, 2, 0, 0]            0          378     8750635039     9400"
      ]
     },
     "execution_count": 2,
     "metadata": {},
     "output_type": "execute_result"
    }
   ],
   "source": [
    "toydata.head()"
   ]
  },
  {
   "cell_type": "code",
   "execution_count": 3,
   "metadata": {},
   "outputs": [],
   "source": [
    "toydata = toydata.merge(toydata['basket'].apply(lambda x: pd.Series({'c_0': x.count(0), 'c_1': x.count(1),'c_2': x.count(2),'c_3': x.count(3),'c_4': x.count(4),'c_5': x.count(5)})), left_index=True, right_index=True)"
   ]
  },
  {
   "cell_type": "code",
   "execution_count": 4,
   "metadata": {},
   "outputs": [
    {
     "data": {
      "text/html": [
       "<div>\n",
       "<style scoped>\n",
       "    .dataframe tbody tr th:only-of-type {\n",
       "        vertical-align: middle;\n",
       "    }\n",
       "\n",
       "    .dataframe tbody tr th {\n",
       "        vertical-align: top;\n",
       "    }\n",
       "\n",
       "    .dataframe thead th {\n",
       "        text-align: right;\n",
       "    }\n",
       "</style>\n",
       "<table border=\"1\" class=\"dataframe\">\n",
       "  <thead>\n",
       "    <tr style=\"text-align: right;\">\n",
       "      <th></th>\n",
       "      <th>returnLabel</th>\n",
       "      <th>totalAmount</th>\n",
       "      <th>c_0</th>\n",
       "      <th>c_1</th>\n",
       "      <th>c_2</th>\n",
       "      <th>c_3</th>\n",
       "      <th>c_4</th>\n",
       "      <th>c_5</th>\n",
       "    </tr>\n",
       "  </thead>\n",
       "  <tbody>\n",
       "    <tr>\n",
       "      <th>0</th>\n",
       "      <td>0</td>\n",
       "      <td>264</td>\n",
       "      <td>1</td>\n",
       "      <td>3</td>\n",
       "      <td>3</td>\n",
       "      <td>0</td>\n",
       "      <td>0</td>\n",
       "      <td>1</td>\n",
       "    </tr>\n",
       "    <tr>\n",
       "      <th>1</th>\n",
       "      <td>1</td>\n",
       "      <td>60</td>\n",
       "      <td>0</td>\n",
       "      <td>1</td>\n",
       "      <td>1</td>\n",
       "      <td>1</td>\n",
       "      <td>3</td>\n",
       "      <td>0</td>\n",
       "    </tr>\n",
       "    <tr>\n",
       "      <th>2</th>\n",
       "      <td>0</td>\n",
       "      <td>60</td>\n",
       "      <td>0</td>\n",
       "      <td>0</td>\n",
       "      <td>0</td>\n",
       "      <td>0</td>\n",
       "      <td>0</td>\n",
       "      <td>1</td>\n",
       "    </tr>\n",
       "    <tr>\n",
       "      <th>3</th>\n",
       "      <td>0</td>\n",
       "      <td>333</td>\n",
       "      <td>1</td>\n",
       "      <td>0</td>\n",
       "      <td>0</td>\n",
       "      <td>1</td>\n",
       "      <td>1</td>\n",
       "      <td>0</td>\n",
       "    </tr>\n",
       "    <tr>\n",
       "      <th>4</th>\n",
       "      <td>0</td>\n",
       "      <td>378</td>\n",
       "      <td>2</td>\n",
       "      <td>1</td>\n",
       "      <td>2</td>\n",
       "      <td>1</td>\n",
       "      <td>0</td>\n",
       "      <td>0</td>\n",
       "    </tr>\n",
       "  </tbody>\n",
       "</table>\n",
       "</div>"
      ],
      "text/plain": [
       "   returnLabel  totalAmount  c_0  c_1  c_2  c_3  c_4  c_5\n",
       "0            0          264    1    3    3    0    0    1\n",
       "1            1           60    0    1    1    1    3    0\n",
       "2            0           60    0    0    0    0    0    1\n",
       "3            0          333    1    0    0    1    1    0\n",
       "4            0          378    2    1    2    1    0    0"
      ]
     },
     "execution_count": 4,
     "metadata": {},
     "output_type": "execute_result"
    }
   ],
   "source": [
    "toydata.drop(['basket','transactionId','zipCode'],axis=1,inplace=True)\n",
    "toydata.head()"
   ]
  },
  {
   "cell_type": "code",
   "execution_count": 5,
   "metadata": {},
   "outputs": [],
   "source": [
    "from sklearn.model_selection import train_test_split\n",
    "\n",
    "X_train, X_test, y_train, y_test = train_test_split(toydata.drop('returnLabel',axis=1),toydata['returnLabel'], test_size=0.30,random_state=101)"
   ]
  },
  {
   "cell_type": "code",
   "execution_count": 6,
   "metadata": {},
   "outputs": [
    {
     "name": "stderr",
     "output_type": "stream",
     "text": [
      "c:\\python27\\lib\\site-packages\\sklearn\\linear_model\\logistic.py:758: ConvergenceWarning: lbfgs failed to converge. Increase the number of iterations.\n",
      "  \"of iterations.\", ConvergenceWarning)\n"
     ]
    }
   ],
   "source": [
    "from sklearn.linear_model import LogisticRegression\n",
    "log_clf = LogisticRegression(solver='lbfgs')\n",
    "log_clf.fit(X_train,y_train)\n",
    "log_predictions = log_clf.predict(X_test)"
   ]
  },
  {
   "cell_type": "code",
   "execution_count": 7,
   "metadata": {},
   "outputs": [
    {
     "name": "stdout",
     "output_type": "stream",
     "text": [
      "              precision    recall  f1-score   support\n",
      "\n",
      "           0       0.98      1.00      0.99      9001\n",
      "           1       0.77      0.24      0.37       299\n",
      "\n",
      "   micro avg       0.97      0.97      0.97      9300\n",
      "   macro avg       0.87      0.62      0.68      9300\n",
      "weighted avg       0.97      0.97      0.97      9300\n",
      "\n",
      "('Accuracy:', 0.9733333333333334)\n"
     ]
    }
   ],
   "source": [
    "from sklearn.metrics import classification_report\n",
    "from sklearn.metrics import accuracy_score\n",
    "print(classification_report(y_test,log_predictions))\n",
    "print(\"Accuracy:\",accuracy_score(y_test, log_predictions))"
   ]
  },
  {
   "cell_type": "code",
   "execution_count": 8,
   "metadata": {},
   "outputs": [],
   "source": [
    "from sklearn.ensemble import RandomForestClassifier\n",
    "from sklearn.datasets import make_classification\n",
    "\n",
    "random_clf = RandomForestClassifier(n_estimators=100, max_depth=2,\n",
    "                             random_state=0)\n",
    "random_clf.fit(X_train,y_train)\n",
    "random_predictions = random_clf.predict(X_test)"
   ]
  },
  {
   "cell_type": "code",
   "execution_count": 9,
   "metadata": {},
   "outputs": [
    {
     "name": "stdout",
     "output_type": "stream",
     "text": [
      "              precision    recall  f1-score   support\n",
      "\n",
      "           0       0.97      1.00      0.98      9001\n",
      "           1       0.00      0.00      0.00       299\n",
      "\n",
      "   micro avg       0.97      0.97      0.97      9300\n",
      "   macro avg       0.48      0.50      0.49      9300\n",
      "weighted avg       0.94      0.97      0.95      9300\n",
      "\n",
      "('Accuracy:', 0.9678494623655914)\n"
     ]
    },
    {
     "name": "stderr",
     "output_type": "stream",
     "text": [
      "c:\\python27\\lib\\site-packages\\sklearn\\metrics\\classification.py:1143: UndefinedMetricWarning: Precision and F-score are ill-defined and being set to 0.0 in labels with no predicted samples.\n",
      "  'precision', 'predicted', average, warn_for)\n"
     ]
    }
   ],
   "source": [
    "from sklearn.metrics import classification_report\n",
    "from sklearn.metrics import accuracy_score\n",
    "print(classification_report(y_test,random_predictions))\n",
    "print(\"Accuracy:\",accuracy_score(y_test, random_predictions))"
   ]
  },
  {
   "cell_type": "code",
   "execution_count": 10,
   "metadata": {},
   "outputs": [],
   "source": [
    "def roc_curve_scratch(true_labels, predictions):\n",
    "    combined = np.column_stack((true_labels,predictions))\n",
    "    combined = combined[combined[:,1].argsort()][::-1] \n",
    "    sorted_true = combined[:, [0]]\n",
    "    sorted_pred = combined[:, [1]]\n",
    "\n",
    "    fprs = np.array([])\n",
    "    tprs = np.array([])\n",
    "    \n",
    "    for i in range(sorted_pred.size):\n",
    "        threshold = (sorted_pred[i])\n",
    "        tmp = np.copy(sorted_pred)\n",
    "        tmp[tmp >= threshold], tmp[tmp < threshold] = 1,0\n",
    "        \n",
    "        tp = np.sum(np.logical_and(tmp == 1, sorted_true == 1))\n",
    "        tn = np.sum(np.logical_and(tmp == 0, sorted_true == 0))\n",
    "        fp = np.sum(np.logical_and(tmp == 1, sorted_true == 0))\n",
    "        fn = np.sum(np.logical_and(tmp == 0, sorted_true == 1))\n",
    "        \n",
    "        fpr = (fp*1.0)/(tn+fp)\n",
    "        tpr = (tp*1.0)/(tp+fn)\n",
    "\n",
    "        fprs = np.append(fprs, fpr)\n",
    "        tprs = np.append(tprs, tpr)\n",
    "\n",
    "    return fprs, tprs"
   ]
  },
  {
   "cell_type": "code",
   "execution_count": 11,
   "metadata": {},
   "outputs": [
    {
     "data": {
      "image/png": "[encoded data removed]",
      "text/plain": [
       "<Figure size 432x288 with 1 Axes>"
      ]
     },
     "metadata": {
      "needs_background": "light"
     },
     "output_type": "display_data"
    }
   ],
   "source": [
    "# logistic regression roc\n",
    "y_pred_proba_log = log_clf.predict_proba(X_test)[::,1]\n",
    "fpr_log, tpr_log = roc_curve_scratch(y_test, y_pred_proba_log)\n",
    "\n",
    "# random forest roc\n",
    "y_pred_proba_rnd = random_clf.predict_proba(X_test)[::,1]\n",
    "fpr_rnd, tpr_rnd = roc_curve_scratch(y_test, y_pred_proba_rnd)\n",
    "\n",
    "import matplotlib.pyplot as plt\n",
    "plt.title('Receiver Operating Characteristic')\n",
    "plt.plot(fpr_log, tpr_log, 'b', label = 'logistic-r.')\n",
    "plt.plot(fpr_rnd, tpr_rnd, 'g', label = 'random-f.')\n",
    "plt.legend(loc = 'lower right')\n",
    "plt.plot([0, 1], [0, 1],'r--')\n",
    "plt.xlim([0, 1])\n",
    "plt.ylim([0, 1])\n",
    "plt.ylabel('True Positive Rate')\n",
    "plt.xlabel('False Positive Rate')\n",
    "plt.show()"
   ]
  },
  {
   "cell_type": "code",
   "execution_count": null,
   "metadata": {},
   "outputs": [],
   "source": []
  }
 ],
 "metadata": {
  "kernelspec": {
   "display_name": "Python 2",
   "language": "python",
   "name": "python2"
  },
  "language_info": {
   "codemirror_mode": {
    "name": "ipython",
    "version": 2
   },
   "file_extension": ".py",
   "mimetype": "text/x-python",
   "name": "python",
   "nbconvert_exporter": "python",
   "pygments_lexer": "ipython2",
   "version": "2.7.15"
  }
 },
 "nbformat": 4,
 "nbformat_minor": 2
}
